{
 "cells": [
  {
   "cell_type": "code",
   "execution_count": 81,
   "metadata": {},
   "outputs": [],
   "source": [
    "import pandas as pd\n",
    "import numpy as np\n",
    "import tushare as ts\n",
    "from pandas.core.frame import DataFrame\n",
    "from pandas import Series\n",
    "import random\n",
    "import time\n",
    "from sqlalchemy import create_engine\n",
    "import pymysql\n",
    "pymysql.install_as_MySQLdb()"
   ]
  },
  {
   "cell_type": "markdown",
   "metadata": {},
   "source": [
    "### 字符串常用基础操作"
   ]
  },
  {
   "cell_type": "code",
   "execution_count": 55,
   "metadata": {},
   "outputs": [],
   "source": [
    "# 数据构造\n",
    "symbol1='btcusd'\n",
    "symbol2='btcusd,ethusd,xrpusd'\n",
    "symbol_list=['btcusd','etheth','xrpusd','ltcbnb','etcrmb']\n",
    "symbol_kg='           btcusd'\n",
    "symbol_if='xrpusd'"
   ]
  },
  {
   "cell_type": "code",
   "execution_count": 20,
   "metadata": {},
   "outputs": [
    {
     "data": {
      "text/plain": [
       "'btcusd,ethusd,xrpusd'"
      ]
     },
     "execution_count": 20,
     "metadata": {},
     "output_type": "execute_result"
    }
   ],
   "source": [
    "# 常见操作: startswith, endswith\n",
    "symbol1\n",
    "# symbol1.startswith('btc')\n",
    "# symbol1.startswith('bcc')\n",
    "# symbol1.endswith('usd')\n",
    "# symbol1.endswith('udd')"
   ]
  },
  {
   "cell_type": "code",
   "execution_count": 23,
   "metadata": {},
   "outputs": [
    {
     "data": {
      "text/plain": [
       "False"
      ]
     },
     "execution_count": 23,
     "metadata": {},
     "output_type": "execute_result"
    }
   ],
   "source": [
    "# 判断\n",
    "# symbol1\n",
    "# 'btc' in symbol1\n",
    "'bcc' in symbol1"
   ]
  },
  {
   "cell_type": "code",
   "execution_count": 27,
   "metadata": {},
   "outputs": [
    {
     "data": {
      "text/plain": [
       "'btcusd,ethusd,xrpusd'"
      ]
     },
     "execution_count": 27,
     "metadata": {},
     "output_type": "execute_result"
    }
   ],
   "source": [
    "# 替换replace\n",
    "# symbol2\n",
    "# symbol2.replace('usd','TEST')\n",
    "'btcTEST,ethTEST,xrpTEST'.replace('TEST','usd')"
   ]
  },
  {
   "cell_type": "code",
   "execution_count": 31,
   "metadata": {},
   "outputs": [
    {
     "data": {
      "text/plain": [
       "['btc', ',eth', ',xrp', '']"
      ]
     },
     "execution_count": 31,
     "metadata": {},
     "output_type": "execute_result"
    }
   ],
   "source": [
    "# 切片split\n",
    "symbol\n",
    "# symbol.split(',')\n",
    "# symbol.split('usd')"
   ]
  },
  {
   "cell_type": "code",
   "execution_count": 35,
   "metadata": {},
   "outputs": [
    {
     "data": {
      "text/plain": [
       "'btcusd,ethusd,xrpusd'"
      ]
     },
     "execution_count": 35,
     "metadata": {},
     "output_type": "execute_result"
    }
   ],
   "source": [
    "# 合并join，split的逆操作\n",
    "symbol_list\n",
    "','.join(symbol_list)"
   ]
  },
  {
   "cell_type": "code",
   "execution_count": 39,
   "metadata": {},
   "outputs": [
    {
     "data": {
      "text/plain": [
       "'btcusd'"
      ]
     },
     "execution_count": 39,
     "metadata": {},
     "output_type": "execute_result"
    }
   ],
   "source": [
    "# 处理空字符串strip\n",
    "symbol_kg\n",
    "symbol_kg.strip()"
   ]
  },
  {
   "cell_type": "code",
   "execution_count": 43,
   "metadata": {},
   "outputs": [
    {
     "name": "stdout",
     "output_type": "stream",
     "text": [
      "xrpusd 以美元计价\n"
     ]
    }
   ],
   "source": [
    "# 基本条件语句-if条件\n",
    "symbol_if\n",
    "if symbol_if.endswith('usd'):\n",
    "    print(symbol_if,'以美元计价')\n",
    "elif symbol_if.endswith('btc'):\n",
    "    print(symbol_if,'以比特币计价')\n",
    "else:\n",
    "    print(symbol_if,'不知道以什么计价')"
   ]
  },
  {
   "cell_type": "code",
   "execution_count": 56,
   "metadata": {},
   "outputs": [
    {
     "name": "stdout",
     "output_type": "stream",
     "text": [
      "btcusd 以美元计价\n",
      "etheth 以莱特币计价\n",
      "xrpusd 以美元计价\n",
      "ltcbnb 以以太坊计价\n",
      "etcrmb 不知道以什么计价\n"
     ]
    }
   ],
   "source": [
    "# 基本条件语句-for循环\n",
    "symbol_list\n",
    "for sym in symbol_list:\n",
    "    if sym.endswith('usd'):\n",
    "        print(sym,'以美元计价')\n",
    "        continue\n",
    "    if sym.endswith('eth'):\n",
    "        print(sym,'以莱特币计价')\n",
    "        continue\n",
    "    if sym.endswith('bnb'):\n",
    "        print(sym,'以以太坊计价')\n",
    "        continue\n",
    "    print(sym,'不知道以什么计价')"
   ]
  },
  {
   "cell_type": "markdown",
   "metadata": {},
   "source": [
    "### 基本函数"
   ]
  },
  {
   "cell_type": "code",
   "execution_count": 79,
   "metadata": {},
   "outputs": [
    {
     "name": "stdout",
     "output_type": "stream",
     "text": [
      "Hello\n",
      "World\n",
      "Boy\n",
      "Girl\n"
     ]
    },
    {
     "data": {
      "text/plain": [
       "'继续打印'"
      ]
     },
     "execution_count": 79,
     "metadata": {},
     "output_type": "execute_result"
    }
   ],
   "source": [
    "# 基本函数\n",
    "def func1(str1='Hello',str2='World'):\n",
    "    print(str1)\n",
    "    print(str2)    \n",
    "    return '继续打印'\n",
    "#     print('继续打印')\n",
    "\n",
    "func1()\n",
    "func1('Boy','Girl')"
   ]
  },
  {
   "cell_type": "code",
   "execution_count": 120,
   "metadata": {},
   "outputs": [
    {
     "name": "stdout",
     "output_type": "stream",
     "text": [
      "警告！下单出错，停止2秒后再次尝试\n",
      "警告！下单出错，停止2秒后再次尝试\n",
      "警告！下单出错，停止2秒后再次尝试\n",
      "警告！下单出错，停止2秒后再次尝试\n",
      "警告！下单出错，停止2秒后再次尝试\n",
      "警告！下单出错，停止2秒后再次尝试\n",
      "超过最大尝试次数，下单失败，通知查看报错内容！\n"
     ]
    }
   ],
   "source": [
    "# 异常处理\n",
    "# try:\n",
    "#     语句1\n",
    "# except:\n",
    "#     语句2\n",
    "# else:\n",
    "#     语句3\n",
    "\n",
    "# 买入BTC\n",
    "def buy_btc():\n",
    "    random_num=random.random()\n",
    "    random_num\n",
    "    if(random_num<=0.2):\n",
    "        print(random_num,'成功买入BTC')\n",
    "        return\n",
    "    else:\n",
    "        raise ValueError(random_num,'程序报错：买入BTC失败！')\n",
    "\n",
    "# buy_btc()\n",
    "\n",
    "# 下单买入BTC，最多尝试失败5次\n",
    "max_try_num=5\n",
    "try_num=0\n",
    "\n",
    "while True:\n",
    "    try:\n",
    "        buy_btc()\n",
    "    except:\n",
    "        print('警告！下单出错，停止2秒后再次尝试')\n",
    "        try_num+=1\n",
    "        time.sleep(2)\n",
    "        if try_num>max_try_num:\n",
    "            print('超过最大尝试次数，下单失败，通知查看报错内容！')\n",
    "            break\n",
    "        else:\n",
    "            continue\n",
    "    else:\n",
    "        break"
   ]
  },
  {
   "cell_type": "code",
   "execution_count": null,
   "metadata": {},
   "outputs": [],
   "source": []
  }
 ],
 "metadata": {
  "kernelspec": {
   "display_name": "Python 3",
   "language": "python",
   "name": "python3"
  },
  "language_info": {
   "codemirror_mode": {
    "name": "ipython",
    "version": 3
   },
   "file_extension": ".py",
   "mimetype": "text/x-python",
   "name": "python",
   "nbconvert_exporter": "python",
   "pygments_lexer": "ipython3",
   "version": "3.7.1"
  }
 },
 "nbformat": 4,
 "nbformat_minor": 2
}
